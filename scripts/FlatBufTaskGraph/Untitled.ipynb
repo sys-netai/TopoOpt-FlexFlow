{
 "cells": [
  {
   "cell_type": "code",
   "execution_count": 27,
   "id": "bca76389-e630-4689-a446-55b432f4d8d5",
   "metadata": {},
   "outputs": [],
   "source": [
    "import flatbuffers\n",
    "import numpy as np\n",
    "import FlatBufTaskGraph.TaskGraph"
   ]
  },
  {
   "cell_type": "code",
   "execution_count": 61,
   "id": "5b9dd891-9c05-4c19-b651-48feccd50b13",
   "metadata": {},
   "outputs": [],
   "source": [
    "buf = []\n",
    "with open(\"/home/weiyangw/Documents/new_1024_8.fbuf\", \"rb\") as f:\n",
    "    buf = f.read()\n",
    "tg = FlatBufTaskGraph.TaskGraph.TaskGraph.GetRootAs(buf, 0)"
   ]
  },
  {
   "cell_type": "code",
   "execution_count": null,
   "id": "b6854a05-90ba-4572-95f1-c4135020a5f6",
   "metadata": {},
   "outputs": [],
   "source": []
  },
  {
   "cell_type": "code",
   "execution_count": 29,
   "id": "dcc01607-1015-4e8b-9e12-f17bb15566af",
   "metadata": {},
   "outputs": [],
   "source": [
    "def get_all_routes(tg):\n",
    "    result = {}\n",
    "    for i in range(tg.RoutesLength()):\n",
    "        r = tg.Routes(i)\n",
    "        src, dst = r.Fromnode(), r.Tonode()\n",
    "        for j in range(r.PathsLength()):\n",
    "            p = r.Paths(j)\n",
    "            path = [p.Hopnode(k) for k in range(p.HopnodeLength())]\n",
    "            result[(src,dst)] = path\n",
    "    return result\n",
    "        "
   ]
  },
  {
   "cell_type": "code",
   "execution_count": 7,
   "id": "5450cd82-6903-423b-87c6-772dfedef539",
   "metadata": {},
   "outputs": [],
   "source": [
    "DEVICE_COMP_GPU = 0\n",
    "DEVICE_COMP_CPU = 1\n",
    "DEVICE_MEM_SYSTEM = 2\n",
    "DEVICE_MEM_Z_COPY = 3\n",
    "DEVICE_MEM_GPU_FB = 4\n",
    "DEVICE_COMM_MEMBUS_COMM = 5\n",
    "DEVICE_COMM_UPI_IN_COMM = 6\n",
    "DEVICE_COMM_UPI_OUT_COMM = 7\n",
    "DEVICE_COMM_NIC_IN_COMM = 8\n",
    "DEVICE_COMM_NIC_OUT_COMM = 9\n",
    "DEVICE_COMM_PCI_TO_HOST_COMM = 10\n",
    "DEVICE_COMM_PCI_TO_DEV_COMM = 11\n",
    "DEVICE_COMM_NVLINK_COMM = 12\n",
    "DEVICE_COMM_NW_COMM = 13\n",
    "DEVICE_COMM_NW_NOMINAL = 14\n",
    "def get_dev(tg):\n",
    "    result = {}\n",
    "    for i in range(tg.DevicesLength()):\n",
    "        d = tg.Devices(i)\n",
    "        result[d.Deviceid()] = (d.Nodeid(), d.Type(), d.Deviceproperty(), d.Bandwidth())\n",
    "    return result\n",
    "\n",
    "def get_nwnominal(tg, devices):\n",
    "    nnodes = tg.Nnode()\n",
    "    nominal_comms = {}\n",
    "    for devid, dev in devices.items():\n",
    "        if dev[1] == DEVICE_COMM_NW_NOMINAL:\n",
    "            src, dst = dev[2] // nnodes, dev[2] % nnodes\n",
    "            nominal_comms[devid] = (src, dst)\n",
    "    return nominal_comms"
   ]
  },
  {
   "cell_type": "code",
   "execution_count": 32,
   "id": "d0e4ad65-0420-48f7-be76-ada435d5df6d",
   "metadata": {},
   "outputs": [],
   "source": [
    "TASK_FORWARD = 0\n",
    "TASK_BACKWARD = 1\n",
    "TASK_COMM = 2\n",
    "TASK_UPDATE = 3\n",
    "TASK_BARRIER = 4\n",
    "TASK_NOMINAL_COMM = 5\n",
    "TASK_ALLREDUCE = 6\n",
    "def get_tasks(tg):\n",
    "    result = {}\n",
    "    for i in range(tg.TasksLength()):\n",
    "        t = tg.Tasks(i)\n",
    "        nexttasks = [t.Nexttasks(j) for j in range(t.NexttasksLength())]\n",
    "        result[t.Taskid()] = (t.Deviceid(), t.Runtime(), t.Xfersize(), t.Type(), nexttasks)\n",
    "    return result"
   ]
  },
  {
   "cell_type": "code",
   "execution_count": 33,
   "id": "e34ec85e-cc02-4bf7-be51-681aa63beada",
   "metadata": {},
   "outputs": [],
   "source": [
    "def get_ring(tg):\n",
    "    rings = {}\n",
    "    for i in range(tg.RingsLength()):\n",
    "        r = tg.Rings(i)\n",
    "        rsz = r.Ringsz()\n",
    "        rings[rsz] = [list(r.Ringpaths(j).JumpsAsNumpy()) for j in range(r.RingpathsLength())]\n",
    "    return rings"
   ]
  },
  {
   "cell_type": "code",
   "execution_count": 34,
   "id": "2b4cf845-2aa9-495f-8a2b-db65d0472500",
   "metadata": {},
   "outputs": [],
   "source": [
    "def get_logical_tm(tasks, rings, nom_devs, tg):\n",
    "    nnodes = tg.Nnode()\n",
    "    result = {} # (src, dst) -> traffic\n",
    "    tot = 0\n",
    "    totr = 0\n",
    "    for tid, t in tasks.items():\n",
    "        if t[3] == TASK_NOMINAL_COMM:\n",
    "            ndev = nom_devs[t[0]]\n",
    "            # print(ndev, t[2])\n",
    "            if ndev in result:\n",
    "                result[ndev] += t[2]\n",
    "            else:\n",
    "                result[ndev] = t[2]\n",
    "            tot += t[2]\n",
    "        # elif t[3] == TASK_ALLREDUCE:\n",
    "        #     ringsz = len(t[-1])\n",
    "        #     if ringsz == 1: \n",
    "        #         continue\n",
    "        #     nsplit = len(rings[ringsz])\n",
    "        #     totr += 2 * (len(t[-1]) - 1) * t[2]\n",
    "        #     xfersize = 2 * (len(t[-1]) - 1) * t[2] / nsplit / len(t[-1])\n",
    "        #     curr_node = t[-1][0]\n",
    "        #     for rdesc in rings[ringsz]:\n",
    "        #         total_hop = sum(rdesc)\n",
    "        #         for j in range(len(t[-1])):\n",
    "        #             ndev = (curr_node, (curr_node + total_hop) % nnodes)\n",
    "        #             if ndev in result:\n",
    "        #                 result[ndev] += xfersize\n",
    "        #             else:\n",
    "        #                 result[ndev] = xfersize\n",
    "        #             curr_node = (curr_node + total_hop) % nnodes\n",
    "    print(totr, tot)\n",
    "    return result\n",
    "            "
   ]
  },
  {
   "cell_type": "code",
   "execution_count": null,
   "id": "b9bcd159-743c-4249-be42-a3e37989a6c4",
   "metadata": {},
   "outputs": [],
   "source": []
  },
  {
   "cell_type": "code",
   "execution_count": 35,
   "id": "035a4802-1730-43f7-bc4c-f9b97fd036db",
   "metadata": {},
   "outputs": [],
   "source": [
    "def get_physical_tm(tasks, rings, nom_devs, routes, tg):\n",
    "    nnodes = tg.Nnode()\n",
    "    result = {}\n",
    "    for tid, t in tasks.items():\n",
    "        if t[3] == TASK_NOMINAL_COMM:\n",
    "            ndev = nom_devs[t[0]]\n",
    "            path = routes[ndev]\n",
    "            for j in range(len(path) - 1):\n",
    "                npdev = (path[j], path[(j + 1)])\n",
    "                # print(npdev)\n",
    "                if npdev in result:\n",
    "                    result[npdev] += t[2]\n",
    "                    # print(t, npdev, result[npdev])\n",
    "                else:\n",
    "                    result[npdev] = t[2]\n",
    "        # elif t[3] == TASK_ALLREDUCE:\n",
    "        #     ringsz = len(t[-1])\n",
    "        #     if ringsz == 1: \n",
    "        #         continue\n",
    "        #     nsplit = len(rings[ringsz])\n",
    "        #     xfersize = 2 * (len(t[-1]) - 1) * t[2] / nsplit / len(t[-1])\n",
    "        #     # print(t, nsplit, xfersize)\n",
    "        #     curr_node = t[-1][0]\n",
    "        #     for rdesc in rings[ringsz]:\n",
    "        #         # print(rdesc)print(t[2])\n",
    "        #         for j in range(len(t[-1])):\n",
    "        #             for l in rdesc:\n",
    "        #                 npdev = (curr_node, (curr_node + l) % nnodes)\n",
    "        #                 # print(l, npdev)\n",
    "        #                 if npdev in result:\n",
    "        #                     result[npdev] += xfersize\n",
    "        #                 else:\n",
    "        #                     result[npdev] = xfersize\n",
    "        #                 curr_node = (curr_node + l) % nnodes\n",
    "    return result"
   ]
  },
  {
   "cell_type": "code",
   "execution_count": 43,
   "id": "d6884021-09ea-4ddd-b119-718dc651ef10",
   "metadata": {},
   "outputs": [],
   "source": [
    "def get_hop_to_traffic(tasks, rings, nom_devs, routes, tg):\n",
    "    nnodes = tg.Nnode()\n",
    "    result = {}\n",
    "    for tid, t in tasks.items():\n",
    "        if t[3] == TASK_NOMINAL_COMM:\n",
    "            ndev = nom_devs[t[0]]\n",
    "            path = routes[ndev]\n",
    "            pathlen = len(path) - 1\n",
    "            if pathlen in result:\n",
    "                result[pathlen] += 1 # t[2]\n",
    "            else:\n",
    "                result[pathlen] = 1 #t[2]\n",
    "        # elif t[3] == TASK_ALLREDUCE:\n",
    "        #     ringsz = len(t[-1])\n",
    "        #     if ringsz == 1: \n",
    "        #         continue\n",
    "        #     nsplit = len(rings[ringsz])\n",
    "        #     xfersize = 2 * (len(t[-1]) - 1) * t[2] / nsplit / len(t[-1])\n",
    "        #     # print(xfersize)\n",
    "        #     for rdesc in rings[ringsz]:\n",
    "        #         hoplen = len(rdesc)\n",
    "        #         for j in range(len(t[-1])):\n",
    "        #             if hoplen in result:\n",
    "        #                 result[hoplen] += xfersize\n",
    "        #             else:\n",
    "        #                 result[hoplen] = xfersize\n",
    "    return result"
   ]
  },
  {
   "cell_type": "code",
   "execution_count": 41,
   "id": "8a8c5092-0ec4-4c52-8591-59cd90d5819d",
   "metadata": {},
   "outputs": [
    {
     "name": "stdout",
     "output_type": "stream",
     "text": [
      "2.1809625895009903\n"
     ]
    }
   ],
   "source": [
    "tasks = get_tasks(tg)\n",
    "rings = get_ring(tg)\n",
    "devs = get_dev(tg)\n",
    "ndevs = get_nwnominal(tg, devs)\n",
    "routes = get_all_routes(tg)\n",
    "r = get_hop_to_traffic(tasks, rings, ndevs, routes, tg)\n",
    "a = sum([k * v for k, v in r.items() if k != 1]) / r[1]\n",
    "print(a)"
   ]
  },
  {
   "cell_type": "code",
   "execution_count": 44,
   "id": "17ccbae8-7976-414d-9c74-3a760497d0d2",
   "metadata": {},
   "outputs": [],
   "source": [
    "all_route_cnt = {}\n",
    "for v in routes.values():\n",
    "    for i in range(len(v)-1):\n",
    "        link = (v[i], v[i+1])\n",
    "        if link in all_route_cnt:\n",
    "            all_route_cnt[link] += 1\n",
    "        else:\n",
    "            all_route_cnt[link] = 1\n",
    "distribution = [(v,k) for k, v in all_route_cnt.items()]\n",
    "# sorted(distribution)"
   ]
  },
  {
   "cell_type": "code",
   "execution_count": 45,
   "id": "b24ec2e9-6abe-4104-ad27-ca3c18899637",
   "metadata": {},
   "outputs": [
    {
     "name": "stdout",
     "output_type": "stream",
     "text": [
      "0 136365211648\n"
     ]
    }
   ],
   "source": [
    "tasks = get_tasks(tg)\n",
    "rings = get_ring(tg)\n",
    "devs = get_dev(tg)\n",
    "ndevs = get_nwnominal(tg, devs)\n",
    "routes = get_all_routes(tg)\n",
    "ptm = get_physical_tm(tasks, rings, ndevs,routes , tg)\n",
    "ltm = get_logical_tm(tasks, rings, ndevs , tg)\n",
    "# print(ptm)\n",
    "# print(max([v for v in get_physical_tm(tasks, rings, ndevs,routes , tg).values() if v != 0]), min([v for v in get_physical_tm(tasks, rings, ndevs,routes , tg).values() if v != 0]))\n",
    "# print(max([v for v in get_logical_tm(tasks, rings, ndevs, tg).values() if v != 0]), min([v for v in get_logical_tm(tasks, rings, ndevs , tg).values() if v != 0]))"
   ]
  },
  {
   "cell_type": "code",
   "execution_count": 46,
   "id": "94a3d15d-f01f-400e-897f-9c00f09b3417",
   "metadata": {},
   "outputs": [
    {
     "data": {
      "text/plain": [
       "4.622047244094488"
      ]
     },
     "execution_count": 46,
     "metadata": {},
     "output_type": "execute_result"
    }
   ],
   "source": [
    "(sum(ptm.values())-sum(ltm.values()))/sum(ltm.values())"
   ]
  },
  {
   "cell_type": "code",
   "execution_count": 62,
   "id": "4676c338-ac99-4a36-982a-a6b76c672af0",
   "metadata": {},
   "outputs": [],
   "source": [
    "tasks = get_tasks(tg)\n",
    "rings = get_ring(tg)\n",
    "devs = get_dev(tg)\n",
    "ndevs = get_nwnominal(tg, devs)\n",
    "routes = get_all_routes(tg)\n",
    "r = get_hop_to_traffic(tasks, rings, ndevs, routes, tg)"
   ]
  },
  {
   "cell_type": "code",
   "execution_count": 63,
   "id": "3473e542-075e-481a-82dd-36a00da7d1fa",
   "metadata": {},
   "outputs": [
    {
     "name": "stdout",
     "output_type": "stream",
     "text": [
      "0.06299212598425197\n",
      "0.2992125984251969\n",
      "0.2992125984251969\n",
      "0.7086614173228346\n",
      "0.7086614173228346\n",
      "0.968503937007874\n",
      "0.968503937007874\n",
      "1.0\n",
      "1.0\n"
     ]
    },
    {
     "ename": "IndexError",
     "evalue": "list index out of range",
     "output_type": "error",
     "traceback": [
      "\u001b[0;31m---------------------------------------------------------------------------\u001b[0m",
      "\u001b[0;31mIndexError\u001b[0m                                Traceback (most recent call last)",
      "Input \u001b[0;32mIn [63]\u001b[0m, in \u001b[0;36m<module>\u001b[0;34m\u001b[0m\n\u001b[1;32m      8\u001b[0m hcdf \u001b[38;5;241m=\u001b[39m cdf(hops)\n\u001b[1;32m      9\u001b[0m \u001b[38;5;28;01mfor\u001b[39;00m i \u001b[38;5;129;01min\u001b[39;00m \u001b[38;5;28mrange\u001b[39m(\u001b[38;5;241m2\u001b[39m\u001b[38;5;241m*\u001b[39m\u001b[38;5;28mlen\u001b[39m(hcdf)):\n\u001b[0;32m---> 10\u001b[0m     \u001b[38;5;28mprint\u001b[39m(\u001b[38;5;124mf\u001b[39m\u001b[38;5;124m\"\u001b[39m\u001b[38;5;132;01m{\u001b[39;00mhcdf[(i\u001b[38;5;241m+\u001b[39m\u001b[38;5;241m1\u001b[39m)\u001b[38;5;241m/\u001b[39m\u001b[38;5;241m/\u001b[39m\u001b[38;5;241m2\u001b[39m]\u001b[38;5;132;01m}\u001b[39;00m\u001b[38;5;124m\"\u001b[39m)\n",
      "\u001b[0;31mIndexError\u001b[0m: list index out of range"
     ]
    }
   ],
   "source": [
    "hops = {}\n",
    "for k, v in routes.items():\n",
    "    if len(v)-2 in hops:\n",
    "        hops[len(v)-2] += 1\n",
    "    else:\n",
    "        hops[len(v)-2] = 1\n",
    "\n",
    "hcdf = cdf(hops)\n",
    "for i in range(2*len(hcdf)):\n",
    "    print(f\"{hcdf[(i+1)//2]}\")"
   ]
  },
  {
   "cell_type": "code",
   "execution_count": 48,
   "id": "4737911d-d4d8-4dae-9336-5cc4947d224b",
   "metadata": {},
   "outputs": [],
   "source": [
    "def cdf(m):\n",
    "    n = 0\n",
    "    res = []\n",
    "    # total = sum(m.values())\n",
    "    for i in sorted(m):\n",
    "        n += m[i]\n",
    "        res.append(n/total)\n",
    "    \n",
    "    return res\n"
   ]
  },
  {
   "cell_type": "code",
   "execution_count": 49,
   "id": "9f0ba510-98af-4890-a913-04b37822a6ed",
   "metadata": {},
   "outputs": [
    {
     "name": "stdout",
     "output_type": "stream",
     "text": [
      "0.06299212598425197,0.2992125984251969,0.7086614173228346,0.968503937007874,1.0\n",
      "0.06299212598425197,0.2992125984251969,0.7086614173228346,0.968503937007874,1.0\n",
      "0.06666666666666667,0.30196078431372547,0.7098039215686275,0.9686274509803922,1.0\n",
      "0.06457925636007827,0.3013698630136986,0.7103718199608611,0.9686888454011742,1.0\n",
      "0.06457925636007827,0.3013698630136986,0.7103718199608611,0.9686888454011742,1.0\n"
     ]
    }
   ],
   "source": [
    "for i in [64, 128, 256, 512, 1024]:\n",
    "    buf = []\n",
    "    with open(f\"/home/weiyangw/Documents/tg_d8_b{i}.fbuf\", \"rb\") as f:\n",
    "        buf = f.read()\n",
    "    tg = FlatBufTaskGraph.TaskGraph.TaskGraph.GetRootAs(buf, 0)\n",
    "    tasks = get_tasks(tg)\n",
    "    rings = get_ring(tg)\n",
    "    devs = get_dev(tg)\n",
    "    ndevs = get_nwnominal(tg, devs)\n",
    "    routes = get_all_routes(tg)\n",
    "    r = get_hop_to_traffic(tasks, rings, ndevs, routes, tg)\n",
    "    print(\",\".join([str(x) for x in cdf(r)]))"
   ]
  },
  {
   "cell_type": "code",
   "execution_count": 50,
   "id": "5b843684-9d6d-4546-94be-fb69e1195a11",
   "metadata": {},
   "outputs": [
    {
     "name": "stdout",
     "output_type": "stream",
     "text": [
      "0.031496062992125984,0.09448818897637795,0.1889763779527559,0.31496062992125984,0.47244094488188976,0.6377952755905512,0.7795275590551181,0.889763779527559,0.968503937007874,1.0\n",
      "0.031496062992125984,0.09448818897637795,0.1889763779527559,0.31496062992125984,0.47244094488188976,0.6377952755905512,0.7795275590551181,0.889763779527559,0.968503937007874,1.0\n",
      "0.031496062992125984,0.09448818897637795,0.1889763779527559,0.31496062992125984,0.47244094488188976,0.6377952755905512,0.7795275590551181,0.889763779527559,0.968503937007874,1.0\n",
      "0.03522504892367906,0.09980430528375733,0.19373776908023482,0.31898238747553814,0.4755381604696673,0.639921722113503,0.7808219178082192,0.8904109589041096,0.9686888454011742,1.0\n",
      "0.03522504892367906,0.09980430528375733,0.19373776908023482,0.31898238747553814,0.4755381604696673,0.639921722113503,0.7808219178082192,0.8904109589041096,0.9686888454011742,1.0\n"
     ]
    }
   ],
   "source": [
    "for i in [64, 128, 256, 512, 1024]:\n",
    "    buf = []\n",
    "    with open(f\"/home/weiyangw/Documents/tg_d4_b{i}.fbuf\", \"rb\") as f:\n",
    "        buf = f.read()\n",
    "    tg = FlatBufTaskGraph.TaskGraph.TaskGraph.GetRootAs(buf, 0)\n",
    "    tasks = get_tasks(tg)\n",
    "    rings = get_ring(tg)\n",
    "    devs = get_dev(tg)\n",
    "    ndevs = get_nwnominal(tg, devs)\n",
    "    routes = get_all_routes(tg)\n",
    "    r = get_hop_to_traffic(tasks, rings, ndevs, routes, tg)\n",
    "    print(\",\".join([str(x) for x in cdf(r)]))"
   ]
  },
  {
   "cell_type": "code",
   "execution_count": 26,
   "id": "f12629f7-8d8a-49f9-99f3-1269c18d2ce5",
   "metadata": {},
   "outputs": [
    {
     "name": "stdout",
     "output_type": "stream",
     "text": [
      "0.9774266761500128,1.9662348601235486,2.9789442105264823,3.9969649312470605,5.0\n",
      "0.9559153884273898,1.9340583121014738,2.958879059793616,3.994072657267548,5.0\n",
      "0.9099622198411313,1.8736848145083558,2.9212304180361097,3.988645826023223,5.0\n",
      "0.83776034035679,1.7636626755830827,2.855860203240232,3.979223092358952,5.0\n",
      "0.7254541413178842,1.5969374893065844,2.7541761610606095,3.9645659331258534,5.0\n"
     ]
    }
   ],
   "source": [
    "for i in [64, 128, 256, 512, 1024]:\n",
    "    buf = []\n",
    "    with open(f\"/home/weiyangw/Documents/tg_d8_b{i}.fbuf\", \"rb\") as f:\n",
    "        buf = f.read()\n",
    "    tg = FlatBufTaskGraph.TaskGraph.TaskGraph.GetRootAs(buf, 0)\n",
    "    tasks = get_tasks(tg)\n",
    "    rings = get_ring(tg)\n",
    "    devs = get_dev(tg)\n",
    "    ndevs = get_nwnominal(tg, devs)\n",
    "    routes = get_all_routes(tg)\n",
    "    r = get_hop_to_traffic(tasks, rings, ndevs, routes, tg)\n",
    "    print(\",\".join([str(x) for x in ccdf(r)]))"
   ]
  },
  {
   "cell_type": "code",
   "execution_count": null,
   "id": "ba1da9e1-7bde-4155-9e9f-3260cefa6dc0",
   "metadata": {},
   "outputs": [],
   "source": []
  }
 ],
 "metadata": {
  "kernelspec": {
   "display_name": "Python 3 (ipykernel)",
   "language": "python",
   "name": "python3"
  },
  "language_info": {
   "codemirror_mode": {
    "name": "ipython",
    "version": 3
   },
   "file_extension": ".py",
   "mimetype": "text/x-python",
   "name": "python",
   "nbconvert_exporter": "python",
   "pygments_lexer": "ipython3",
   "version": "3.10.4"
  }
 },
 "nbformat": 4,
 "nbformat_minor": 5
}
